{
 "cells": [
  {
   "cell_type": "code",
   "execution_count": 1,
   "metadata": {},
   "outputs": [],
   "source": [
    "import pandas as pd"
   ]
  },
  {
   "cell_type": "code",
   "execution_count": 2,
   "metadata": {},
   "outputs": [],
   "source": [
    "import seaborn as sns"
   ]
  },
  {
   "cell_type": "code",
   "execution_count": 3,
   "metadata": {},
   "outputs": [
    {
     "name": "stdout",
     "output_type": "stream",
     "text": [
      " Volume in drive D has no label.\n",
      " Volume Serial Number is 2E11-DE9C\n",
      "\n",
      " Directory of D:\\Projects\\Ipl\n",
      "\n",
      "07-12-2019  01:22    <DIR>          .\n",
      "07-12-2019  01:22    <DIR>          ..\n",
      "07-12-2019  01:05    <DIR>          .ipynb_checkpoints\n",
      "07-12-2019  01:22            10,606 Experiment.ipynb\n",
      "07-12-2019  01:05                 0 hello.py\n",
      "07-12-2019  00:30    <DIR>          IPL_2008_2019\n",
      "               2 File(s)         10,606 bytes\n",
      "               4 Dir(s)  177,488,793,600 bytes free\n"
     ]
    }
   ],
   "source": [
    "ls"
   ]
  },
  {
   "cell_type": "code",
   "execution_count": 4,
   "metadata": {},
   "outputs": [],
   "source": [
    "df=pd.read_csv(\"IPL_2008_2019/1082592.csv\")"
   ]
  },
  {
   "cell_type": "code",
   "execution_count": 5,
   "metadata": {},
   "outputs": [
    {
     "data": {
      "text/html": [
       "<div>\n",
       "<style scoped>\n",
       "    .dataframe tbody tr th:only-of-type {\n",
       "        vertical-align: middle;\n",
       "    }\n",
       "\n",
       "    .dataframe tbody tr th {\n",
       "        vertical-align: top;\n",
       "    }\n",
       "\n",
       "    .dataframe thead th {\n",
       "        text-align: right;\n",
       "    }\n",
       "</style>\n",
       "<table border=\"1\" class=\"dataframe\">\n",
       "  <thead>\n",
       "    <tr style=\"text-align: right;\">\n",
       "      <th></th>\n",
       "      <th>Inning</th>\n",
       "      <th>Over</th>\n",
       "      <th>Batting_Team</th>\n",
       "      <th>Player</th>\n",
       "      <th>Non_Striker</th>\n",
       "      <th>Baller</th>\n",
       "      <th>Runs</th>\n",
       "      <th>Extra</th>\n",
       "    </tr>\n",
       "  </thead>\n",
       "  <tbody>\n",
       "    <tr>\n",
       "      <th>0</th>\n",
       "      <td>1</td>\n",
       "      <td>0.1</td>\n",
       "      <td>Mumbai Indians</td>\n",
       "      <td>PA Patel</td>\n",
       "      <td>JC Buttler</td>\n",
       "      <td>AB Dinda</td>\n",
       "      <td>0</td>\n",
       "      <td>1</td>\n",
       "    </tr>\n",
       "    <tr>\n",
       "      <th>1</th>\n",
       "      <td>1</td>\n",
       "      <td>0.2</td>\n",
       "      <td>Mumbai Indians</td>\n",
       "      <td>PA Patel</td>\n",
       "      <td>JC Buttler</td>\n",
       "      <td>AB Dinda</td>\n",
       "      <td>0</td>\n",
       "      <td>0</td>\n",
       "    </tr>\n",
       "    <tr>\n",
       "      <th>2</th>\n",
       "      <td>1</td>\n",
       "      <td>0.3</td>\n",
       "      <td>Mumbai Indians</td>\n",
       "      <td>PA Patel</td>\n",
       "      <td>JC Buttler</td>\n",
       "      <td>AB Dinda</td>\n",
       "      <td>1</td>\n",
       "      <td>0</td>\n",
       "    </tr>\n",
       "    <tr>\n",
       "      <th>3</th>\n",
       "      <td>1</td>\n",
       "      <td>0.4</td>\n",
       "      <td>Mumbai Indians</td>\n",
       "      <td>JC Buttler</td>\n",
       "      <td>PA Patel</td>\n",
       "      <td>AB Dinda</td>\n",
       "      <td>5</td>\n",
       "      <td>0</td>\n",
       "    </tr>\n",
       "    <tr>\n",
       "      <th>4</th>\n",
       "      <td>1</td>\n",
       "      <td>0.5</td>\n",
       "      <td>Mumbai Indians</td>\n",
       "      <td>PA Patel</td>\n",
       "      <td>JC Buttler</td>\n",
       "      <td>AB Dinda</td>\n",
       "      <td>4</td>\n",
       "      <td>0</td>\n",
       "    </tr>\n",
       "  </tbody>\n",
       "</table>\n",
       "</div>"
      ],
      "text/plain": [
       "   Inning  Over    Batting_Team      Player Non_Striker    Baller  Runs  Extra\n",
       "0       1   0.1  Mumbai Indians    PA Patel  JC Buttler  AB Dinda     0      1\n",
       "1       1   0.2  Mumbai Indians    PA Patel  JC Buttler  AB Dinda     0      0\n",
       "2       1   0.3  Mumbai Indians    PA Patel  JC Buttler  AB Dinda     1      0\n",
       "3       1   0.4  Mumbai Indians  JC Buttler    PA Patel  AB Dinda     5      0\n",
       "4       1   0.5  Mumbai Indians    PA Patel  JC Buttler  AB Dinda     4      0"
      ]
     },
     "execution_count": 5,
     "metadata": {},
     "output_type": "execute_result"
    }
   ],
   "source": [
    "df.head()\n"
   ]
  },
  {
   "cell_type": "code",
   "execution_count": 6,
   "metadata": {},
   "outputs": [
    {
     "name": "stdout",
     "output_type": "stream",
     "text": [
      "['Mumbai Indians' 'Rising Pune Supergiant']\n"
     ]
    }
   ],
   "source": [
    "teams=df[\"Batting_Team\"].unique()  # playing teams  \n",
    "print(teams)\n",
    "\n",
    "team_1=df[df[\"Batting_Team\"]==teams[0]]\n",
    "team_2=df[df[\"Batting_Team\"]==teams[1]]"
   ]
  },
  {
   "cell_type": "code",
   "execution_count": 7,
   "metadata": {},
   "outputs": [
    {
     "ename": "NameError",
     "evalue": "name 'innings1_bat' is not defined",
     "output_type": "error",
     "traceback": [
      "\u001b[1;31m---------------------------------------------------------------------------\u001b[0m",
      "\u001b[1;31mNameError\u001b[0m                                 Traceback (most recent call last)",
      "\u001b[1;32m<ipython-input-7-cfde34ec85aa>\u001b[0m in \u001b[0;36m<module>\u001b[1;34m\u001b[0m\n\u001b[0;32m      1\u001b[0m \u001b[0mteam1_bat\u001b[0m\u001b[1;33m=\u001b[0m\u001b[0mteam_1\u001b[0m\u001b[1;33m[\u001b[0m\u001b[1;34m\"Player\"\u001b[0m\u001b[1;33m]\u001b[0m\u001b[1;33m.\u001b[0m\u001b[0munique\u001b[0m\u001b[1;33m(\u001b[0m\u001b[1;33m)\u001b[0m      \u001b[1;31m# 1st  Teams  batsmen\u001b[0m\u001b[1;33m\u001b[0m\u001b[1;33m\u001b[0m\u001b[0m\n\u001b[0;32m      2\u001b[0m \u001b[0mteam2_bat\u001b[0m\u001b[1;33m=\u001b[0m\u001b[0mteam_2\u001b[0m\u001b[1;33m[\u001b[0m\u001b[1;34m\"Player\"\u001b[0m\u001b[1;33m]\u001b[0m\u001b[1;33m.\u001b[0m\u001b[0munique\u001b[0m\u001b[1;33m(\u001b[0m\u001b[1;33m)\u001b[0m      \u001b[1;31m# 2nd  Teams  batsmen\u001b[0m\u001b[1;33m\u001b[0m\u001b[1;33m\u001b[0m\u001b[0m\n\u001b[1;32m----> 3\u001b[1;33m \u001b[0mprint\u001b[0m\u001b[1;33m(\u001b[0m\u001b[0minnings1_bat\u001b[0m\u001b[1;33m)\u001b[0m\u001b[1;33m\u001b[0m\u001b[1;33m\u001b[0m\u001b[0m\n\u001b[0m\u001b[0;32m      4\u001b[0m \u001b[0mprint\u001b[0m\u001b[1;33m(\u001b[0m\u001b[0minnings2_bat\u001b[0m\u001b[1;33m)\u001b[0m\u001b[1;33m\u001b[0m\u001b[1;33m\u001b[0m\u001b[0m\n",
      "\u001b[1;31mNameError\u001b[0m: name 'innings1_bat' is not defined"
     ]
    }
   ],
   "source": [
    "team1_bat=team_1[\"Player\"].unique()      # 1st  Teams  batsmen\n",
    "team2_bat=team_2[\"Player\"].unique()      # 2nd  Teams  batsmen\n",
    "print(innings1_bat)\n",
    "print(innings2_bat)"
   ]
  },
  {
   "cell_type": "code",
   "execution_count": null,
   "metadata": {},
   "outputs": [],
   "source": [
    "team1_ball=team_2[\"Baller\"].unique()      # 1nd  Teams bowlers\n",
    "team2_ball=team_1[\"Baller\"].unique()      # 2nd  Teams bowlers\n",
    "print(innings1_ball)\n",
    "print(innings2_ball)"
   ]
  },
  {
   "cell_type": "code",
   "execution_count": null,
   "metadata": {},
   "outputs": [],
   "source": [
    "team1_score=team_1[\"Runs\"].sum()\n",
    "team2_score=team_2[\"Runs\"].sum()\n",
    "print(team1_score)\n",
    "print(team2_score)"
   ]
  },
  {
   "cell_type": "code",
   "execution_count": 23,
   "metadata": {},
   "outputs": [
    {
     "name": "stdout",
     "output_type": "stream",
     "text": [
      "        Names score\n",
      "0    PA Patel    19\n",
      "1  JC Buttler    38\n",
      "2   RG Sharma     3\n",
      "3      N Rana    34\n",
      "4   AT Rayudu    10\n",
      "5   KH Pandya     3\n",
      "6  KA Pollard    27\n",
      "7   HH Pandya    35\n",
      "8  TG Southee     7\n",
      "        Names score\n",
      "0   AM Rahane    60\n",
      "1  MA Agarwal     6\n",
      "2   SPD Smith    84\n",
      "3   BA Stokes    21\n",
      "4    MS Dhoni    12\n"
     ]
    }
   ],
   "source": [
    "\n",
    "def team_pscore(team_bat,team):\n",
    "    pscore=pd.DataFrame(columns=[\"Names\",\"score\"])\n",
    "    for index,name in enumerate(team_bat):\n",
    "        score=team[team[\"Player\"]==name][\"Runs\"].sum()\n",
    "        pscore.loc[index]=name,str(score)\n",
    "    print(pscore)\n",
    "    return pscore\n",
    "team1_pscore=team_pscore(team1_bat,team_1)\n",
    "team2_pscore=team_pscore(team2_bat,team_2)\n"
   ]
  },
  {
   "cell_type": "code",
   "execution_count": 24,
   "metadata": {},
   "outputs": [
    {
     "data": {
      "text/plain": [
       "(        Names score\n",
       " 0    PA Patel    19\n",
       " 1  JC Buttler    38\n",
       " 2   RG Sharma     3\n",
       " 3      N Rana    34\n",
       " 4   AT Rayudu    10\n",
       " 5   KH Pandya     3\n",
       " 6  KA Pollard    27\n",
       " 7   HH Pandya    35\n",
       " 8  TG Southee     7,         Names score\n",
       " 0   AM Rahane    60\n",
       " 1  MA Agarwal     6\n",
       " 2   SPD Smith    84\n",
       " 3   BA Stokes    21\n",
       " 4    MS Dhoni    12)"
      ]
     },
     "execution_count": 24,
     "metadata": {},
     "output_type": "execute_result"
    }
   ],
   "source": []
  },
  {
   "cell_type": "code",
   "execution_count": null,
   "metadata": {},
   "outputs": [],
   "source": []
  }
 ],
 "metadata": {
  "kernelspec": {
   "display_name": "Python 3",
   "language": "python",
   "name": "python3"
  },
  "language_info": {
   "codemirror_mode": {
    "name": "ipython",
    "version": 3
   },
   "file_extension": ".py",
   "mimetype": "text/x-python",
   "name": "python",
   "nbconvert_exporter": "python",
   "pygments_lexer": "ipython3",
   "version": "3.8.0"
  }
 },
 "nbformat": 4,
 "nbformat_minor": 2
}
